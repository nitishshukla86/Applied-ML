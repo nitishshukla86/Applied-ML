{
 "cells": [
  {
   "cell_type": "code",
   "execution_count": null,
   "metadata": {},
   "outputs": [],
   "source": [
    "import pandas as pd\n",
    "import numpy as np\n",
    "import yfinance as yf\n",
    "import matplotlib.pyplot as plt\n",
    "from sklearn.preprocessing import MinMaxScaler"
   ]
  },
  {
   "cell_type": "code",
   "execution_count": 2,
   "metadata": {},
   "outputs": [],
   "source": [
    "def get_data(name='AAPL',start='2020-01-01', end='2021-06-12'):\n",
    "    aapl= yf.Ticker(\"aapl\")\n",
    "    df = yf.download('AAPL', \n",
    "                        start=start, \n",
    "                        end=end, \n",
    "                        progress=False,\n",
    "    )\n",
    "    df['Date'] = pd.to_datetime(df.index,format='%Y-%m-%d')\n",
    "    df.index = df['Date']\n",
    "    data = df.sort_index(ascending=True, axis=0)\n",
    "    new_data = pd.DataFrame(index=range(0,len(df)),columns=['Date', 'Close','Open'])\n",
    "    for i in range(0,len(data)):\n",
    "        new_data['Date'][i] = data['Date'][i]\n",
    "        new_data['Close'][i] = data['Close'][i]\n",
    "        new_data['Open'][i] = data['Open'][i]\n",
    "    \n",
    "    new_data.index = new_data.Date\n",
    "    new_data.drop('Date', axis=1, inplace=True)\n",
    "    dataset = new_data.values\n",
    "    n=int(0.9*len(dataset))\n",
    "    train = dataset[0:n,:]\n",
    "    valid = dataset[n:,:]\n",
    "    scaler = MinMaxScaler(feature_range=(0, 1))\n",
    "    scaled_data = scaler.fit_transform(dataset)\n",
    "\n",
    "    x_train_open, y_train_open,x_train_close, y_train_close = [], [],[],[]\n",
    "    for i in range(60,len(train)):\n",
    "        x_train_open.append(scaled_data[i-60:i,1])\n",
    "        y_train_open.append(scaled_data[i,1])\n",
    "        x_train_close.append(scaled_data[i-60:i,0])\n",
    "        y_train_close.append(scaled_data[i,0])\n",
    "    x_train_open, y_train_open,x_train_close, y_train_close = np.array(x_train_open),\\\n",
    "        np.array(y_train_open),np.array(x_train_close),np.array(y_train_close)\n",
    "\n",
    "    x_train_open = np.reshape(x_train_open, (x_train_open.shape[0],x_train_open.shape[1],1))\n",
    "    x_train_close = np.reshape(x_train_close, (x_train_close.shape[0],x_train_close.shape[1],1))\n",
    "    inputs = new_data[len(new_data) - len(valid) - 60:].values\n",
    "    inputs  = scaler.transform(inputs)\n",
    "    X_test_open,X_test_close = [],[]\n",
    "    for i in range(60,inputs.shape[0]):\n",
    "        X_test_close.append(inputs[i-60:i,0])\n",
    "        X_test_open.append(inputs[i-60:i,1])\n",
    "    X_test_open,X_test_close = np.array(X_test_open),np.array(X_test_close)\n",
    "\n",
    "    X_test_open = np.reshape(X_test_open, (X_test_open.shape[0],X_test_open.shape[1],1))\n",
    "    X_test_close = np.reshape(X_test_close, (X_test_close.shape[0],X_test_close.shape[1],1))  \n",
    "    \n",
    "    return n,new_data,scaler,x_train_open,x_train_close,y_train_open,y_train_close,X_test_open,X_test_close\n",
    "        \n",
    "    \n",
    "    \n",
    "    "
   ]
  },
  {
   "cell_type": "code",
   "execution_count": 3,
   "metadata": {},
   "outputs": [
    {
     "ename": "NameError",
     "evalue": "name 'lstm' is not defined",
     "output_type": "error",
     "traceback": [
      "\u001b[0;31m---------------------------------------------------------------------------\u001b[0m",
      "\u001b[0;31mNameError\u001b[0m                                 Traceback (most recent call last)",
      "Input \u001b[0;32mIn [3]\u001b[0m, in \u001b[0;36m<module>\u001b[0;34m\u001b[0m\n\u001b[1;32m      1\u001b[0m \u001b[38;5;66;03m#from models import LSTM\u001b[39;00m\n\u001b[1;32m      3\u001b[0m n,new_data,scaler,x_train_open,x_train_close,y_train_open,y_train_close,X_test_open,X_test_close\u001b[38;5;241m=\u001b[39mget_data(name\u001b[38;5;241m=\u001b[39m\u001b[38;5;124m'\u001b[39m\u001b[38;5;124mAAPL\u001b[39m\u001b[38;5;124m'\u001b[39m,start\u001b[38;5;241m=\u001b[39m\u001b[38;5;124m'\u001b[39m\u001b[38;5;124m2020-01-01\u001b[39m\u001b[38;5;124m'\u001b[39m, \n\u001b[1;32m      4\u001b[0m                     end\u001b[38;5;241m=\u001b[39m\u001b[38;5;124m'\u001b[39m\u001b[38;5;124m2021-06-12\u001b[39m\u001b[38;5;124m'\u001b[39m)\n\u001b[0;32m----> 5\u001b[0m model\u001b[38;5;241m=\u001b[39m\u001b[43mlstm\u001b[49m((x_train_close\u001b[38;5;241m.\u001b[39mshape[\u001b[38;5;241m1\u001b[39m],\u001b[38;5;241m1\u001b[39m))\n\u001b[1;32m      6\u001b[0m model\u001b[38;5;241m.\u001b[39mfit(x_train_close, y_train_close, epochs\u001b[38;5;241m=\u001b[39m\u001b[38;5;241m5\u001b[39m, batch_size\u001b[38;5;241m=\u001b[39m\u001b[38;5;241m2\u001b[39m, verbose\u001b[38;5;241m=\u001b[39m\u001b[38;5;241m1\u001b[39m)\n\u001b[1;32m      7\u001b[0m clo_price \u001b[38;5;241m=\u001b[39m model\u001b[38;5;241m.\u001b[39mpredict(X_test_close)\n",
      "\u001b[0;31mNameError\u001b[0m: name 'lstm' is not defined"
     ]
    }
   ],
   "source": [
    "#from models import LSTM\n",
    "\n",
    "n,new_data,scaler,x_train_open,x_train_close,y_train_open,y_train_close,X_test_open,X_test_close=get_data(name='AAPL',start='2020-01-01', \n",
    "                    end='2021-06-12')\n",
    "model=lstm((x_train_close.shape[1],1))\n",
    "model.fit(x_train_close, y_train_close, epochs=5, batch_size=2, verbose=1)\n",
    "clo_price = model.predict(X_test_close)\n",
    "\n",
    "\n",
    "model=lstm((x_train_open.shape[1],1))\n",
    "model.fit(x_train_open, y_train_open, epochs=5, batch_size=2, verbose=1)\n",
    "open_price=model.predict(X_test_open)\n",
    "closing_price=scaler.inverse_transform(np.stack((open_price[:,0],clo_price[:,0]),axis=1))[:,0]\n",
    "opening_price=scaler.inverse_transform(np.stack((open_price[:,0],clo_price[:,0]),axis=1))[:,1]\n",
    "\n"
   ]
  },
  {
   "cell_type": "code",
   "execution_count": null,
   "metadata": {},
   "outputs": [],
   "source": [
    "from visualize_data import plot_trend\n",
    "plot_trend(n,new_data,opening_price,key=\"Open\")\n"
   ]
  },
  {
   "cell_type": "code",
   "execution_count": 5,
   "metadata": {},
   "outputs": [
    {
     "name": "stderr",
     "output_type": "stream",
     "text": [
      "/home/nitishs/Assignments/AML/visualize_data.py:5: SettingWithCopyWarning: \n",
      "A value is trying to be set on a copy of a slice from a DataFrame.\n",
      "Try using .loc[row_indexer,col_indexer] = value instead\n",
      "\n",
      "See the caveats in the documentation: https://pandas.pydata.org/pandas-docs/stable/user_guide/indexing.html#returning-a-view-versus-a-copy\n",
      "  valid['Predictions'] = pred\n"
     ]
    },
    {
     "data": {
      "image/png": "[encoded data removed]",
      "text/plain": [
       "<Figure size 432x288 with 1 Axes>"
      ]
     },
     "metadata": {
      "needs_background": "light"
     },
     "output_type": "display_data"
    }
   ],
   "source": [
    "from visualize_data import plot_trend\n",
    "plot_trend(n,new_data,opening_price,key=\"Close\")"
   ]
  },
  {
   "cell_type": "code",
   "execution_count": 45,
   "metadata": {},
   "outputs": [],
   "source": [
    "y_pred=((closing_price-opening_price)>0).astype(int)\n",
    "y_true=((new_data[n:]['Close']-new_data[n:]['Open'])>0).astype(int)"
   ]
  },
  {
   "cell_type": "code",
   "execution_count": 46,
   "metadata": {},
   "outputs": [
    {
     "name": "stdout",
     "output_type": "stream",
     "text": [
      "[4.9275665 4.8604736 5.1290436 4.7511597 4.6871643 4.8681793 5.169037\n",
      " 5.8876343 6.1665344 6.016327  6.5837326 6.7734528 6.2010117 5.9218216\n",
      " 6.2363358 5.7661743 5.7253876 5.5236588 5.123291  5.1117325 5.480751\n",
      " 5.314514  4.806404  5.145088  5.019409  5.1599274 5.2065735 5.4415207\n",
      " 5.6441345 5.7545624 5.483963  5.514786  5.0205917 4.848694  4.732048\n",
      " 4.7207336 4.947708 ]\n",
      "Date\n",
      "2021-04-21    1.139999\n",
      "2021-04-22   -1.099991\n",
      "2021-04-23    2.160004\n",
      "2021-04-26   -0.110001\n",
      "2021-04-27   -0.619995\n",
      "2021-04-28   -0.729996\n",
      "2021-04-29   -2.990005\n",
      "2021-04-30   -0.319992\n",
      "2021-05-03         0.5\n",
      "2021-05-04   -3.340004\n",
      "2021-05-05   -1.099991\n",
      "2021-05-06    1.850006\n",
      "2021-05-07   -0.639999\n",
      "2021-05-10   -2.560005\n",
      "2021-05-11    2.410004\n",
      "2021-05-12   -0.630005\n",
      "2021-05-13    0.389999\n",
      "2021-05-14    1.199997\n",
      "2021-05-17   -0.550003\n",
      "2021-05-18   -1.709999\n",
      "2021-05-19    1.529999\n",
      "2021-05-20    2.079994\n",
      "2021-05-21   -2.389999\n",
      "2021-05-24    1.089996\n",
      "2021-05-25   -0.919998\n",
      "2021-05-26   -0.110001\n",
      "2021-05-27   -1.160004\n",
      "2021-05-28   -0.959999\n",
      "2021-06-01   -0.800003\n",
      "2021-06-02    0.779999\n",
      "2021-06-03   -1.139999\n",
      "2021-06-04        1.82\n",
      "2021-06-07   -0.269997\n",
      "2021-06-08    0.139999\n",
      "2021-06-09   -0.080002\n",
      "2021-06-10   -0.909996\n",
      "2021-06-11        0.82\n",
      "dtype: object\n"
     ]
    }
   ],
   "source": [
    "print(closing_price-opening_price)\n",
    "print((new_data[n:]['Close']-new_data[n:]['Open']))"
   ]
  },
  {
   "cell_type": "code",
   "execution_count": 47,
   "metadata": {},
   "outputs": [
    {
     "data": {
      "text/plain": [
       "array([[ 0, 23],\n",
       "       [ 0, 14]])"
      ]
     },
     "execution_count": 47,
     "metadata": {},
     "output_type": "execute_result"
    }
   ],
   "source": [
    "from sklearn.metrics import confusion_matrix\n",
    "\n",
    "confusion_matrix(y_true,y_pred)"
   ]
  },
  {
   "cell_type": "code",
   "execution_count": 49,
   "metadata": {},
   "outputs": [
    {
     "data": {
      "text/plain": [
       "<AxesSubplot:>"
      ]
     },
     "execution_count": 49,
     "metadata": {},
     "output_type": "execute_result"
    },
    {
     "data": {
      "image/png": "[encoded data removed]",
      "text/plain": [
       "<Figure size 720x504 with 2 Axes>"
      ]
     },
     "metadata": {
      "needs_background": "light"
     },
     "output_type": "display_data"
    }
   ],
   "source": [
    "import seaborn as sn\n",
    "import pandas as pd\n",
    "import matplotlib.pyplot as plt\n",
    "from sklearn.metrics import confusion_matrix\n",
    "\n",
    "y_pred=((closing_price-opening_price)>0).astype(int)\n",
    "y_true=((new_data[n:]['Close']-new_data[n:]['Open'])>0).astype(int)\n",
    "mat=confusion_matrix(y_true,y_pred)\n",
    "df_cm = pd.DataFrame(mat, index = [i for i in \"01\"],\n",
    "              columns = [i for i in \"01\"])\n",
    "plt.figure(figsize = (10,7))\n",
    "\n",
    "sn.heatmap(df_cm, annot=True)\n",
    "\n",
    "    \n",
    "\n"
   ]
  },
  {
   "cell_type": "code",
   "execution_count": 7,
   "metadata": {},
   "outputs": [
    {
     "data": {
      "image/png": "[encoded data removed]",
      "text/plain": [
       "<Figure size 720x504 with 2 Axes>"
      ]
     },
     "metadata": {
      "needs_background": "light"
     },
     "output_type": "display_data"
    }
   ],
   "source": [
    "from score_metrics import plot_confusion\n",
    "\n",
    "plot_confusion(n,new_data,opening_price,closing_price)"
   ]
  },
  {
   "cell_type": "code",
   "execution_count": null,
   "metadata": {},
   "outputs": [],
   "source": []
  }
 ],
 "metadata": {
  "interpreter": {
   "hash": "96a6edb2fd9b9ac149967cb8d3e8cc6bf2c7c725a80af2bc1f401897c2ac4bb6"
  },
  "kernelspec": {
   "display_name": "Python 3",
   "language": "python",
   "name": "python3"
  },
  "language_info": {
   "codemirror_mode": {
    "name": "ipython",
    "version": 3
   },
   "file_extension": ".py",
   "mimetype": "text/x-python",
   "name": "python",
   "nbconvert_exporter": "python",
   "pygments_lexer": "ipython3",
   "version": "3.9.0"
  }
 },
 "nbformat": 4,
 "nbformat_minor": 4
}
